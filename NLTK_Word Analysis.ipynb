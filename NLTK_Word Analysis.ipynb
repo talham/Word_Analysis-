{
 "cells": [
  {
   "cell_type": "markdown",
   "metadata": {},
   "source": [
    "# Homework 8: High Frequency Word Analysis"
   ]
  },
  {
   "cell_type": "code",
   "execution_count": 1,
   "metadata": {},
   "outputs": [],
   "source": [
    "import nltk\n",
    "import matplotlib as plt\n",
    "import matplotlib.pyplot as py\n",
    "% matplotlib inline"
   ]
  },
  {
   "cell_type": "code",
   "execution_count": 2,
   "metadata": {},
   "outputs": [],
   "source": [
    "from nltk.corpus import gutenberg as guten"
   ]
  },
  {
   "cell_type": "code",
   "execution_count": 3,
   "metadata": {},
   "outputs": [
    {
     "name": "stdout",
     "output_type": "stream",
     "text": [
      "austen-emma.txt\n",
      "austen-persuasion.txt\n",
      "austen-sense.txt\n",
      "bible-kjv.txt\n",
      "blake-poems.txt\n",
      "bryant-stories.txt\n",
      "burgess-busterbrown.txt\n",
      "carroll-alice.txt\n",
      "chesterton-ball.txt\n",
      "chesterton-brown.txt\n",
      "chesterton-thursday.txt\n",
      "edgeworth-parents.txt\n",
      "melville-moby_dick.txt\n",
      "milton-paradise.txt\n",
      "shakespeare-caesar.txt\n",
      "shakespeare-hamlet.txt\n",
      "shakespeare-macbeth.txt\n",
      "whitman-leaves.txt\n"
     ]
    }
   ],
   "source": [
    "for fileid in guten.fileids(): \n",
    "    print fileid"
   ]
  },
  {
   "cell_type": "markdown",
   "metadata": {},
   "source": [
    "#### 1. Choose a Corpus of Interest"
   ]
  },
  {
   "cell_type": "markdown",
   "metadata": {},
   "source": [
    "Choose, Persuasion - by Jane Austen as shown in the Guttenberg Corpus"
   ]
  },
  {
   "cell_type": "code",
   "execution_count": 4,
   "metadata": {},
   "outputs": [],
   "source": [
    "austen_sents=guten.sents('austen-persuasion.txt')"
   ]
  },
  {
   "cell_type": "code",
   "execution_count": 5,
   "metadata": {},
   "outputs": [
    {
     "data": {
      "text/plain": [
       "[[u'[', u'Persuasion', u'by', u'Jane', u'Austen', u'1818', u']'], [u'Chapter', u'1'], ...]"
      ]
     },
     "execution_count": 5,
     "metadata": {},
     "output_type": "execute_result"
    }
   ],
   "source": [
    "austen_sents"
   ]
  },
  {
   "cell_type": "code",
   "execution_count": 6,
   "metadata": {},
   "outputs": [
    {
     "name": "stdout",
     "output_type": "stream",
     "text": [
      "[u'Sir', u'Walter', u'Elliot', u',', u'of', u'Kellynch', u'Hall', u',', u'in', u'Somersetshire', u',', u'was', u'a', u'man', u'who', u',', u'for', u'his', u'own', u'amusement', u',', u'never', u'took', u'up', u'any', u'book', u'but', u'the', u'Baronetage', u';', u'there', u'he', u'found', u'occupation', u'for', u'an', u'idle', u'hour', u',', u'and', u'consolation', u'in', u'a', u'distressed', u'one', u';', u'there', u'his', u'faculties', u'were', u'roused', u'into', u'admiration', u'and', u'respect', u',', u'by', u'contemplating', u'the', u'limited', u'remnant', u'of', u'the', u'earliest', u'patents', u';', u'there', u'any', u'unwelcome', u'sensations', u',', u'arising', u'from', u'domestic', u'affairs', u'changed', u'naturally', u'into', u'pity', u'and', u'contempt', u'as', u'he', u'turned', u'over', u'the', u'almost', u'endless', u'creations', u'of', u'the', u'last', u'century', u';', u'and', u'there', u',', u'if', u'every', u'other', u'leaf', u'were', u'powerless', u',', u'he', u'could', u'read', u'his', u'own', u'history', u'with', u'an', u'interest', u'which', u'never', u'failed', u'.']\n"
     ]
    }
   ],
   "source": [
    "print austen_sents[2]"
   ]
  },
  {
   "cell_type": "code",
   "execution_count": 7,
   "metadata": {},
   "outputs": [],
   "source": [
    "austen_pers=guten.raw('austen-persuasion.txt')"
   ]
  },
  {
   "cell_type": "code",
   "execution_count": 8,
   "metadata": {},
   "outputs": [
    {
     "data": {
      "text/plain": [
       "u'Persuasion by Jane Austen 1818]\\n\\n\\nChapter 1\\n\\n\\nSir Walter Elliot, of Kellynch Hall, in Somersetshire, was a man who,\\nfor his own amusement, never took up any book but the Baronetage;\\nthere he found occupation for an idle hour, and consolation in a\\ndistressed one; there his faculties were roused into admiration and\\nrespect, by contemplating the limited remnant of the earliest patents;\\nthere any unwelcome sensations, arising from domestic affairs\\nchanged naturally into pity and contempt as he turned over\\nthe almost endless creations of the last century; and there,\\nif every other leaf were powerless, he could read his own history\\nwith an interest which never failed.  This was the page at which\\nthe favourite volume always opened:\\n\\n           \"ELLIOT OF KELLYNCH HALL.\\n\\n\"Walter Elliot, born March 1, 1760, married, July 15, 1784, Elizabeth,\\ndaughter of James Stevenson, Esq. of South Park, in the county of\\nGloucester, by which lady (who died 1800) he has issue Elizabeth,\\nborn June 1, 1785; Ann'"
      ]
     },
     "execution_count": 8,
     "metadata": {},
     "output_type": "execute_result"
    }
   ],
   "source": [
    "austen_pers[1:1000]"
   ]
  },
  {
   "cell_type": "code",
   "execution_count": 9,
   "metadata": {},
   "outputs": [],
   "source": [
    "austen_words=guten.words('austen-persuasion.txt')"
   ]
  },
  {
   "cell_type": "code",
   "execution_count": 10,
   "metadata": {},
   "outputs": [
    {
     "data": {
      "text/plain": [
       "[u'Persuasion',\n",
       " u'by',\n",
       " u'Jane',\n",
       " u'Austen',\n",
       " u'1818',\n",
       " u']',\n",
       " u'Chapter',\n",
       " u'1',\n",
       " u'Sir',\n",
       " u'Walter',\n",
       " u'Elliot',\n",
       " u',',\n",
       " u'of',\n",
       " u'Kellynch',\n",
       " u'Hall',\n",
       " u',',\n",
       " u'in',\n",
       " u'Somersetshire',\n",
       " u',']"
      ]
     },
     "execution_count": 10,
     "metadata": {},
     "output_type": "execute_result"
    }
   ],
   "source": [
    "austen_words[1:20]"
   ]
  },
  {
   "cell_type": "code",
   "execution_count": 11,
   "metadata": {},
   "outputs": [
    {
     "data": {
      "text/plain": [
       "98171"
      ]
     },
     "execution_count": 11,
     "metadata": {},
     "output_type": "execute_result"
    }
   ],
   "source": [
    "#number of words\n",
    "len(austen_words)"
   ]
  },
  {
   "cell_type": "code",
   "execution_count": 12,
   "metadata": {},
   "outputs": [
    {
     "data": {
      "text/plain": [
       "3747"
      ]
     },
     "execution_count": 12,
     "metadata": {},
     "output_type": "execute_result"
    }
   ],
   "source": [
    "#number of sentences\n",
    "len(austen_sents)"
   ]
  },
  {
   "cell_type": "code",
   "execution_count": 13,
   "metadata": {},
   "outputs": [],
   "source": [
    "#freq distribution\n",
    "fdist=nltk.FreqDist([w.lower() for w in austen_words])"
   ]
  },
  {
   "cell_type": "code",
   "execution_count": 14,
   "metadata": {},
   "outputs": [
    {
     "data": {
      "text/plain": [
       "u','"
      ]
     },
     "execution_count": 14,
     "metadata": {},
     "output_type": "execute_result"
    }
   ],
   "source": [
    "fdist.max()"
   ]
  },
  {
   "cell_type": "code",
   "execution_count": 15,
   "metadata": {},
   "outputs": [],
   "source": [
    "vocab=sorted(set(austen_words))"
   ]
  },
  {
   "cell_type": "code",
   "execution_count": 16,
   "metadata": {},
   "outputs": [
    {
     "data": {
      "text/plain": [
       "[u'1785',\n",
       " u'1787',\n",
       " u'1789',\n",
       " u'1791',\n",
       " u'18',\n",
       " u'1800',\n",
       " u'1803',\n",
       " u'1806',\n",
       " u'1810',\n",
       " u'1814',\n",
       " u'1818',\n",
       " u'19',\n",
       " u'1st',\n",
       " u'2',\n",
       " u'20',\n",
       " u'21',\n",
       " u'22',\n",
       " u'23',\n",
       " u'24',\n",
       " u'29th',\n",
       " u'3',\n",
       " u'4',\n",
       " u'5',\n",
       " u'6',\n",
       " u'7',\n",
       " u'8',\n",
       " u'9',\n",
       " u':',\n",
       " u':\"',\n",
       " u':--',\n",
       " u':--\"',\n",
       " u';',\n",
       " u';\"',\n",
       " u\";'\",\n",
       " u';)',\n",
       " u';--',\n",
       " u';--\"',\n",
       " u'?',\n",
       " u'?\"',\n",
       " u\"?'\",\n",
       " u'?\\'\"',\n",
       " u'?)',\n",
       " u'?),',\n",
       " u'A',\n",
       " u'About',\n",
       " u'Abydos',\n",
       " u'Accordingly',\n",
       " u'Admiral',\n",
       " u'Admiralty',\n",
       " u'After']"
      ]
     },
     "execution_count": 16,
     "metadata": {},
     "output_type": "execute_result"
    }
   ],
   "source": [
    "vocab[50:100]"
   ]
  },
  {
   "cell_type": "code",
   "execution_count": 17,
   "metadata": {},
   "outputs": [
    {
     "data": {
      "text/plain": [
       "FreqDist({u',': 6750, u'the': 3329, u'to': 2808, u'and': 2801, u'.': 2741, u'of': 2570, u'a': 1595, u'in': 1389, u'was': 1337, u';': 1290, ...})"
      ]
     },
     "execution_count": 17,
     "metadata": {},
     "output_type": "execute_result"
    }
   ],
   "source": [
    "fdist"
   ]
  },
  {
   "cell_type": "code",
   "execution_count": 18,
   "metadata": {},
   "outputs": [
    {
     "data": {
      "text/plain": [
       "22"
      ]
     },
     "execution_count": 18,
     "metadata": {},
     "output_type": "execute_result"
    }
   ],
   "source": [
    "fdist['women']"
   ]
  },
  {
   "cell_type": "code",
   "execution_count": 19,
   "metadata": {},
   "outputs": [],
   "source": [
    "vocab_austen=fdist.keys()"
   ]
  },
  {
   "cell_type": "code",
   "execution_count": 20,
   "metadata": {},
   "outputs": [
    {
     "data": {
      "text/plain": [
       "[u'admiral',\n",
       " u'avert',\n",
       " u'bringing',\n",
       " u'brought',\n",
       " u'china',\n",
       " u'civilities',\n",
       " u'contributed',\n",
       " u'cordially',\n",
       " u'designing',\n",
       " u'disturb',\n",
       " u'divide',\n",
       " u'elegant',\n",
       " u'eligible',\n",
       " u'exclamations',\n",
       " u'explained',\n",
       " u'fingers',\n",
       " u'foul',\n",
       " u'four',\n",
       " u'granting',\n",
       " u'hanging',\n",
       " u'harville',\n",
       " u'here',\n",
       " u'hers',\n",
       " u'impeaching',\n",
       " u'increasing',\n",
       " u'internally',\n",
       " u'interrupting',\n",
       " u'looking',\n",
       " u'lord',\n",
       " u'military',\n",
       " u'natured',\n",
       " u'owed',\n",
       " u'persisted',\n",
       " u'pretensions',\n",
       " u'prize',\n",
       " u'properest',\n",
       " u'recollections',\n",
       " u'remnant',\n",
       " u'reported',\n",
       " u'reports',\n",
       " u'second',\n",
       " u'shaving',\n",
       " u'sinking',\n",
       " u'stern',\n",
       " u'succession',\n",
       " u'tired',\n",
       " u'unanswered',\n",
       " u'wallises',\n",
       " u'wednesday',\n",
       " u'woody']"
      ]
     },
     "execution_count": 20,
     "metadata": {},
     "output_type": "execute_result"
    }
   ],
   "source": [
    "#sorted by alphabetical order\n",
    "sorted(vocab_austen[:50])"
   ]
  },
  {
   "cell_type": "code",
   "execution_count": 21,
   "metadata": {},
   "outputs": [],
   "source": [
    "#austen text vocabulary\n",
    "austen_txt_vocab=[w.lower() for w in austen_words if w.isalpha()]"
   ]
  },
  {
   "cell_type": "code",
   "execution_count": 22,
   "metadata": {},
   "outputs": [
    {
     "data": {
      "text/plain": [
       "[u'by',\n",
       " u'jane',\n",
       " u'austen',\n",
       " u'chapter',\n",
       " u'sir',\n",
       " u'walter',\n",
       " u'elliot',\n",
       " u'of',\n",
       " u'kellynch']"
      ]
     },
     "execution_count": 22,
     "metadata": {},
     "output_type": "execute_result"
    }
   ],
   "source": [
    "# word count excluding punctuation and numbers\n",
    "austen_txt_vocab[1:10]"
   ]
  },
  {
   "cell_type": "markdown",
   "metadata": {},
   "source": [
    "#### 2. How many total Unique words are in the Corpus\n",
    "I define unique words, as words that are different from each other including stop words etc. "
   ]
  },
  {
   "cell_type": "code",
   "execution_count": 23,
   "metadata": {},
   "outputs": [
    {
     "data": {
      "text/plain": [
       "5739"
      ]
     },
     "execution_count": 23,
     "metadata": {},
     "output_type": "execute_result"
    }
   ],
   "source": [
    "#unique words\n",
    "len(set(austen_txt_vocab))"
   ]
  },
  {
   "cell_type": "code",
   "execution_count": 24,
   "metadata": {},
   "outputs": [
    {
     "data": {
      "text/plain": [
       "84121"
      ]
     },
     "execution_count": 24,
     "metadata": {},
     "output_type": "execute_result"
    }
   ],
   "source": [
    "#total words excluding alpha-numerics \n",
    "len(austen_txt_vocab)"
   ]
  },
  {
   "cell_type": "markdown",
   "metadata": {},
   "source": [
    "There are approximately 5,700 words, out of a total of 84,000 words - after excluding punctuation"
   ]
  },
  {
   "cell_type": "markdown",
   "metadata": {},
   "source": [
    "#### 3. Taking the most common words, how many unique words represent half of the total words in the Corpus?"
   ]
  },
  {
   "cell_type": "code",
   "execution_count": 25,
   "metadata": {},
   "outputs": [],
   "source": [
    "#count of words\n",
    "dist=nltk.FreqDist(austen_txt_vocab)"
   ]
  },
  {
   "cell_type": "code",
   "execution_count": 26,
   "metadata": {},
   "outputs": [
    {
     "data": {
      "image/png": "[encoded data removed]",
      "text/plain": [
       "<Figure size 1440x576 with 1 Axes>"
      ]
     },
     "metadata": {
      "needs_background": "light"
     },
     "output_type": "display_data"
    }
   ],
   "source": [
    "py.figure(figsize=(20, 8)) \n",
    "dist.plot(70,cumulative=True)"
   ]
  },
  {
   "cell_type": "code",
   "execution_count": 27,
   "metadata": {},
   "outputs": [
    {
     "name": "stdout",
     "output_type": "stream",
     "text": [
      "word count cumulative Total Percent\n",
      "the 3329 3329 3\n",
      "to 2808 6137 7\n",
      "and 2801 8938 10\n",
      "of 2570 11508 13\n",
      "a 1595 13103 15\n",
      "in 1389 14492 17\n",
      "was 1337 15829 18\n",
      "her 1204 17033 20\n",
      "had 1186 18219 21\n",
      "she 1146 19365 23\n",
      "i 1124 20489 24\n",
      "it 1038 21527 25\n",
      "he 961 22488 26\n",
      "be 950 23438 27\n",
      "not 934 24372 28\n",
      "that 882 25254 30\n",
      "as 809 26063 30\n",
      "for 707 26770 31\n",
      "but 664 27434 32\n",
      "his 659 28093 33\n",
      "with 654 28747 34\n",
      "you 628 29375 34\n",
      "have 589 29964 35\n",
      "at 533 30497 36\n",
      "all 530 31027 36\n",
      "anne 497 31524 37\n",
      "been 496 32020 38\n",
      "s 485 32505 38\n",
      "him 467 32972 39\n",
      "could 451 33423 39\n",
      "very 434 33857 40\n",
      "they 433 34290 40\n",
      "were 426 34716 41\n",
      "by 418 35134 41\n",
      "which 416 35550 42\n",
      "is 398 35948 42\n",
      "on 396 36344 43\n",
      "so 359 36703 43\n",
      "no 356 37059 44\n",
      "would 355 37414 44\n",
      "captain 303 37717 44\n",
      "from 295 38012 45\n",
      "their 293 38305 45\n",
      "mrs 291 38596 45\n",
      "elliot 289 38885 46\n",
      "there 286 39171 46\n",
      "or 274 39445 46\n",
      "more 273 39718 47\n",
      "them 270 39988 47\n",
      "mr 256 40244 47\n",
      "this 250 40494 48\n",
      "an 245 40739 48\n",
      "than 243 40982 48\n",
      "one 238 41220 49\n",
      "must 228 41448 49\n",
      "when 228 41676 49\n",
      "my 223 41899 49\n",
      "being 220 42119 50\n",
      "only 219 42338 50\n",
      "wentworth 218 42556 50\n",
      "lady 216 42772 50\n",
      "such 211 42983 51\n",
      "do 210 43193 51\n",
      "much 205 43398 51\n",
      "if 202 43600 51\n"
     ]
    }
   ],
   "source": [
    "cu=0\n",
    "total=len(austen_txt_vocab)\n",
    "sorted_dist=sorted(dist.items(),key=lambda kv:kv[1],reverse=True)\n",
    "print \"word\",\"count\",\"cumulative\",\"Total Percent\"\n",
    "for i in range(65): \n",
    "    cu=sorted_dist[i][1]+cu\n",
    "    perc=100*cu/total\n",
    "    print sorted_dist[i][0],sorted_dist[i][1],cu,perc   "
   ]
  },
  {
   "cell_type": "markdown",
   "metadata": {},
   "source": [
    "The table above shows, the frequency of words in the corpus, excluding punctuation and numbers. \n",
    "Based on the above about 60 of the top most frequent words account for over 50 percent of the total words in the corpus. \n"
   ]
  },
  {
   "cell_type": "markdown",
   "metadata": {},
   "source": [
    "#### 3. Identify the 200 top frequency words in this corpus\n",
    "Strictly this question has been addressed above. That is to say the top 65 top frequency words are shown above. However, to make this exercise more interesting let's remove stop words from this list to see the top 200 frequency words in the corpus"
   ]
  },
  {
   "cell_type": "code",
   "execution_count": 28,
   "metadata": {},
   "outputs": [
    {
     "data": {
      "text/plain": [
       "[u'me',\n",
       " u'my',\n",
       " u'myself',\n",
       " u'we',\n",
       " u'our',\n",
       " u'ours',\n",
       " u'ourselves',\n",
       " u'you',\n",
       " u\"you're\"]"
      ]
     },
     "execution_count": 28,
     "metadata": {},
     "output_type": "execute_result"
    }
   ],
   "source": [
    "from nltk.corpus import stopwords\n",
    "stopwords.words('english')[1:10]"
   ]
  },
  {
   "cell_type": "code",
   "execution_count": 29,
   "metadata": {},
   "outputs": [],
   "source": [
    "#exclude stopwords from Austen Text\n",
    "stopwords=stopwords.words('english')\n",
    "austen_txt_exc=[w for w in austen_txt_vocab if w.lower() not in stopwords]"
   ]
  },
  {
   "cell_type": "code",
   "execution_count": 30,
   "metadata": {},
   "outputs": [
    {
     "name": "stdout",
     "output_type": "stream",
     "text": [
      "number of words, excluding stop words 38337\n"
     ]
    },
    {
     "data": {
      "text/plain": [
       "FreqDist({u'anne': 497, u'could': 451, u'would': 355, u'captain': 303, u'mrs': 291, u'elliot': 289, u'mr': 256, u'one': 238, u'must': 228, u'wentworth': 218, ...})"
      ]
     },
     "execution_count": 30,
     "metadata": {},
     "output_type": "execute_result"
    }
   ],
   "source": [
    "print \"number of words, excluding stop words\", len(austen_txt_exc)\n",
    "dist_exc=nltk.FreqDist(austen_txt_exc)\n",
    "dist_exc"
   ]
  },
  {
   "cell_type": "code",
   "execution_count": 31,
   "metadata": {},
   "outputs": [
    {
     "name": "stdout",
     "output_type": "stream",
     "text": [
      "word count\n",
      "anne 497\n",
      "could 451\n",
      "would 355\n",
      "captain 303\n",
      "mrs 291\n",
      "elliot 289\n",
      "mr 256\n",
      "one 238\n",
      "must 228\n",
      "wentworth 218\n",
      "lady 216\n",
      "much 205\n",
      "good 187\n",
      "little 176\n",
      "said 173\n",
      "charles 166\n",
      "might 166\n",
      "well 163\n",
      "never 155\n",
      "time 152\n",
      "think 149\n",
      "sir 149\n",
      "russell 148\n",
      "walter 141\n",
      "nothing 139\n",
      "mary 138\n",
      "man 134\n",
      "great 130\n",
      "musgrove 130\n",
      "know 127\n",
      "miss 125\n",
      "see 123\n",
      "soon 122\n",
      "father 117\n",
      "though 117\n",
      "two 114\n",
      "first 113\n",
      "quite 112\n",
      "louisa 111\n",
      "always 110\n",
      "without 108\n",
      "every 102\n",
      "bath 101\n",
      "made 96\n",
      "long 95\n",
      "house 94\n",
      "seemed 93\n",
      "say 93\n",
      "thought 90\n",
      "elizabeth 89\n",
      "however 89\n",
      "last 88\n",
      "go 88\n",
      "make 88\n",
      "better 87\n",
      "may 87\n",
      "place 87\n",
      "many 85\n",
      "young 84\n",
      "found 83\n",
      "friend 83\n",
      "home 83\n",
      "sister 82\n",
      "room 82\n",
      "like 81\n",
      "family 80\n",
      "felt 80\n",
      "give 79\n",
      "away 78\n",
      "way 78\n",
      "ever 78\n",
      "day 77\n",
      "uppercross 77\n",
      "harville 75\n",
      "feelings 75\n",
      "come 75\n",
      "henrietta 74\n",
      "still 74\n",
      "done 74\n",
      "kellynch 73\n",
      "sure 73\n",
      "upon 72\n",
      "even 71\n",
      "enough 71\n",
      "moment 71\n",
      "benwick 70\n",
      "admiral 69\n",
      "back 69\n",
      "came 68\n",
      "smith 68\n",
      "lyme 67\n",
      "woman 67\n",
      "clay 66\n",
      "another 66\n",
      "going 65\n",
      "heard 65\n",
      "present 65\n",
      "happy 64\n",
      "mind 64\n",
      "something 64\n",
      "indeed 63\n",
      "party 62\n",
      "knew 61\n",
      "acquaintance 61\n",
      "almost 60\n",
      "rather 60\n",
      "half 60\n",
      "morning 59\n",
      "years 58\n",
      "seen 58\n",
      "yet 58\n",
      "wish 58\n",
      "croft 58\n",
      "shall 57\n",
      "perhaps 57\n",
      "look 56\n",
      "dear 56\n",
      "oh 56\n",
      "poor 55\n",
      "evening 55\n",
      "together 54\n",
      "others 54\n",
      "hope 53\n",
      "till 52\n",
      "ought 52\n",
      "saw 51\n",
      "take 51\n",
      "gone 51\n",
      "life 49\n",
      "anything 49\n",
      "character 49\n",
      "known 49\n",
      "us 48\n",
      "certainly 48\n",
      "left 48\n",
      "yes 48\n",
      "believe 48\n",
      "old 47\n",
      "side 47\n",
      "short 47\n",
      "cried 47\n",
      "leave 46\n",
      "looking 45\n",
      "possible 45\n",
      "since 45\n",
      "near 45\n",
      "deal 45\n",
      "wife 45\n",
      "best 44\n",
      "feel 44\n",
      "right 43\n",
      "really 43\n",
      "manner 43\n",
      "perfectly 43\n",
      "interest 43\n",
      "everything 43\n",
      "love 42\n",
      "course 42\n",
      "whole 42\n",
      "next 42\n",
      "heart 42\n",
      "cannot 42\n",
      "least 42\n",
      "part 42\n",
      "mother 42\n",
      "looked 42\n",
      "spirits 41\n",
      "musgroves 41\n",
      "three 41\n",
      "thing 41\n",
      "name 41\n",
      "sort 41\n",
      "passed 40\n",
      "idea 40\n",
      "hardly 40\n",
      "people 39\n",
      "among 39\n",
      "pleasure 39\n",
      "hear 39\n",
      "agreeable 38\n",
      "hayter 38\n",
      "feeling 37\n",
      "company 37\n",
      "seeing 37\n",
      "visit 37\n",
      "account 37\n",
      "afterwards 36\n",
      "world 36\n",
      "ill 36\n",
      "get 36\n",
      "either 36\n",
      "children 35\n",
      "head 35\n",
      "walk 35\n",
      "country 34\n",
      "received 34\n",
      "change 34\n",
      "husband 34\n",
      "general 34\n",
      "wallis 34\n"
     ]
    }
   ],
   "source": [
    "#top 200 most frequent words excluding stop words\n",
    "sorted_dist_exc=sorted(dist_exc.items(),key=lambda kv:kv[1],reverse=True)\n",
    "print \"word\",\"count\"\n",
    "for i in range(200): \n",
    "    print sorted_dist_exc[i][0],sorted_dist_exc[i][1]"
   ]
  },
  {
   "cell_type": "markdown",
   "metadata": {},
   "source": [
    "#### 5. Create a graph showing relative frequency of these words\n"
   ]
  },
  {
   "cell_type": "code",
   "execution_count": 32,
   "metadata": {},
   "outputs": [
    {
     "data": {
      "image/png": "[encoded data removed]",
      "text/plain": [
       "<Figure size 1440x576 with 1 Axes>"
      ]
     },
     "metadata": {
      "needs_background": "light"
     },
     "output_type": "display_data"
    }
   ],
   "source": [
    "py.figure(figsize=(20, 8)) \n",
    "dist_exc.plot(200,cumulative=False)"
   ]
  },
  {
   "cell_type": "markdown",
   "metadata": {},
   "source": [
    "The plot above shows that the frequency of the corpus excluding stop words declines very rapidly. Excluding the stop-worrds does indicate that now the words have more relevance. For example: Anne, the main character of the novel is the most frequent occuring word. "
   ]
  },
  {
   "cell_type": "markdown",
   "metadata": {},
   "source": [
    "#### 6. Does the observed relative frequency of these words follow zipf's law"
   ]
  },
  {
   "cell_type": "code",
   "execution_count": 33,
   "metadata": {},
   "outputs": [
    {
     "name": "stdout",
     "output_type": "stream",
     "text": [
      "Most Frequency 3329\n",
      "the 3329 1\n",
      "to 2808 1\n",
      "and 2801 1\n",
      "of 2570 1\n",
      "a 1595 2\n",
      "in 1389 2\n",
      "was 1337 2\n",
      "her 1204 2\n",
      "had 1186 2\n",
      "she 1146 2\n",
      "i 1124 2\n",
      "it 1038 3\n",
      "he 961 3\n",
      "be 950 3\n",
      "not 934 3\n"
     ]
    }
   ],
   "source": [
    "# lets examine Zipf's law for all words in the book\n",
    "# most frequent\n",
    "most_freq=sorted_dist[0][1]\n",
    "print \"Most Frequency\",most_freq\n",
    "#loop through the values and calculate the relative frequency\n",
    "for i in range(15): \n",
    "    print sorted_dist[i][0],sorted_dist[i][1],(most_freq/sorted_dist[i][1])   "
   ]
  },
  {
   "cell_type": "code",
   "execution_count": 34,
   "metadata": {},
   "outputs": [
    {
     "name": "stdout",
     "output_type": "stream",
     "text": [
      "Most Frequent 497\n",
      "Word Frequency Relative Frequency (percent)\n",
      "anne 497 100\n",
      "could 451 110\n",
      "would 355 140\n",
      "captain 303 164\n",
      "mrs 291 170\n",
      "elliot 289 171\n",
      "mr 256 194\n",
      "one 238 208\n",
      "must 228 217\n",
      "wentworth 218 227\n",
      "lady 216 230\n",
      "much 205 242\n",
      "good 187 265\n",
      "little 176 282\n",
      "said 173 287\n"
     ]
    }
   ],
   "source": [
    "# lets examine Zipf's law for all words in the book but excluding stop-words\n",
    "# most frequent\n",
    "most_freq=sorted_dist_exc[0][1]\n",
    "print \"Most Frequent\",most_freq\n",
    "#loop through the values\n",
    "print \"Word\",\"Frequency\",\"Relative Frequency (percent)\"\n",
    "for i in range(15): \n",
    "    print sorted_dist_exc[i][0],sorted_dist_exc[i][1],(100*most_freq/sorted_dist_exc[i][1])   "
   ]
  },
  {
   "cell_type": "markdown",
   "metadata": {},
   "source": [
    "When look at the entire dataset then, the frequency of the words does NOT seem to follow Zipf's law which states that frequency should be inversely proportional to the rank i.e. the most frequent word should be two times as frequent as the 2nd most frequent word "
   ]
  },
  {
   "cell_type": "markdown",
   "metadata": {},
   "source": [
    "#### 7. In what ways do you think the freqency of words in this Corpora are different from \"all words in all corpora\""
   ]
  },
  {
   "cell_type": "code",
   "execution_count": 35,
   "metadata": {},
   "outputs": [
    {
     "data": {
      "text/plain": [
       "FreqDist({u'the': 3329, u'to': 2808, u'and': 2801, u'of': 2570, u'a': 1595, u'in': 1389, u'was': 1337, u'her': 1204, u'had': 1186, u'she': 1146, ...})"
      ]
     },
     "execution_count": 35,
     "metadata": {},
     "output_type": "execute_result"
    }
   ],
   "source": [
    "#lets check the frequency of stop words in the text\n",
    "austen_txt_stop=[w for w in austen_txt_vocab if w.lower() in stopwords]\n",
    "nltk.FreqDist(austen_txt_stop)"
   ]
  },
  {
   "cell_type": "code",
   "execution_count": 36,
   "metadata": {},
   "outputs": [
    {
     "data": {
      "image/png": "[encoded data removed]",
      "text/plain": [
       "<Figure size 1440x576 with 1 Axes>"
      ]
     },
     "metadata": {
      "needs_background": "light"
     },
     "output_type": "display_data"
    }
   ],
   "source": [
    "py.figure(figsize=(20, 8)) \n",
    "nltk.FreqDist(austen_txt_stop).plot(50,cumulative=False)"
   ]
  },
  {
   "cell_type": "markdown",
   "metadata": {},
   "source": [
    "When we look at the frequency of words we note following: \n",
    "\n",
    "1) Frequency including stop-words is most likely quite similar to other corpora. For example, \"the\",\"to\" and \"and\" are most likely quite common across corpora\n",
    "\n",
    "2) However, when we look at the frequency of words without the stop-words then word counts are quite specific to this corpora. For example, the most frequent word is \"Anne\", the name of heroine, \"would\" and \"could\" explaining some of the challenges that Anne might be going through. The fourth most popular word is \"Captain\", after Captain Wenworth the suitor to Anne. "
   ]
  }
 ],
 "metadata": {
  "kernelspec": {
   "display_name": "Python 2",
   "language": "python",
   "name": "python2"
  },
  "language_info": {
   "codemirror_mode": {
    "name": "ipython",
    "version": 2
   },
   "file_extension": ".py",
   "mimetype": "text/x-python",
   "name": "python",
   "nbconvert_exporter": "python",
   "pygments_lexer": "ipython2",
   "version": "2.7.15"
  }
 },
 "nbformat": 4,
 "nbformat_minor": 2
}
